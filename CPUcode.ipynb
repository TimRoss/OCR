{
 "cells": [
  {
   "cell_type": "code",
   "execution_count": 1,
   "id": "f75df65c-3d34-4121-906d-217edef5fb5b",
   "metadata": {},
   "outputs": [],
   "source": [
    "import pandas as pd\n",
    "import numpy as np"
   ]
  },
  {
   "cell_type": "code",
   "execution_count": 2,
   "id": "ab71c642-64da-4666-b75f-5d1203262aae",
   "metadata": {},
   "outputs": [],
   "source": [
    "fill_df = pd.read_csv(\"fullMnist.csv\", index_col=0)"
   ]
  },
  {
   "cell_type": "code",
   "execution_count": 276,
   "id": "ebbae8c3-6eae-4751-aace-26cdf7db3a03",
   "metadata": {},
   "outputs": [],
   "source": [
    "class TimsLDAClassifier:\n",
    "\n",
    "    def __init__(self, df: pd.DataFrame):\n",
    "        # td is training data\n",
    "        self.td = df\n",
    "        self.classes = np.sort(self.td.label.unique()).tolist()\n",
    "        self.num_samples, self.sample_size = self.td.shape\n",
    "        # subtract 1 from sample size to not count label\n",
    "        self.sample_size -= 1\n",
    "\n",
    "    def sortDataByClass(self):\n",
    "        self.td = self.td.sort_values(by=['label'])\n",
    "\n",
    "    def buildClassMeans(self):        \n",
    "        # Allocate array with the correct size - (sample_size) x classes\n",
    "        self.means = np.zeros(shape=(len(self.classes), self.sample_size)) \n",
    "        for clazz in self.classes:\n",
    "            self.means[self.classes.index(clazz)] = self.meanForClass(clazz)\n",
    "        \n",
    "    def meanForClass(self, clazz):\n",
    "        classSubset = self.td.loc[self.td['label'] == clazz].drop(columns='label').to_numpy()\n",
    "        classSubset = np.sum(classSubset, axis=0) / classSubset.shape[0]\n",
    "        return classSubset\n",
    "\n",
    "    def withinClassCovarianceForClass(self, clazz):\n",
    "        temp = np.zeros(shape=(self.sample_size, self.sample_size))\n",
    "        classSubset = self.td.loc[self.td['label'] == clazz].drop(columns='label').to_numpy()\n",
    "        for row in classSubset:\n",
    "            curRow = np.subtract(row, self.means[self.classes.index(clazz)])\n",
    "            curRow = np.dot(np.transpose(classSubset), classSubset)\n",
    "            temp += curRow\n",
    "        return temp\n",
    "        \n",
    "    def withinClassCovariance(self):\n",
    "        swCovariance = np.zeros(shape=(self.sample_size, self.sample_size))\n",
    "        for clazz in self.classes:\n",
    "            swCovariance += self.withinClassCovarianceForClass(clazz)\n",
    "        self.sw = swCovariance\n",
    "\n",
    "    def betweenClassCovariance(self):\n",
    "        sbCovariance = np.zeros(shape=(self.sample_size, self.sample_size))\n",
    "        globalMean = np.sum(self.means, axis=0)\n",
    "        for clazz in self.classes:\n",
    "            temp = np.subtract(self.means[self.classes.index(clazz)], globalMean)\n",
    "            temp = np.dot(np.transpose(temp), temp)\n",
    "            # Scale by the number of samples of this class\n",
    "            temp = temp * self.td[self.td['label'] == clazz].shape[0]\n",
    "            sbCovariance += temp\n",
    "        self.sb = sbCovariance\n",
    "\n",
    "    def getEigens(self):\n",
    "        weightMatrix = np.matmul(np.linalg.pinv(self.sw), self.sb)\n",
    "        self.eigenValues, self.eigenVectors = np.linalg.eig(weightMatrix)\n",
    "        \n",
    "            \n",
    "        "
   ]
  },
  {
   "cell_type": "code",
   "execution_count": 269,
   "id": "aad4bb14-975b-49ed-a490-d3674fe22079",
   "metadata": {},
   "outputs": [],
   "source": [
    "tinySample = fill_df.head(20)"
   ]
  },
  {
   "cell_type": "code",
   "execution_count": 280,
   "id": "e73f9b0d-f734-4dd3-999a-8944913cb2c4",
   "metadata": {},
   "outputs": [
    {
     "name": "stdout",
     "output_type": "stream",
     "text": [
      "(784, 784)\n"
     ]
    }
   ],
   "source": [
    "print(testClassifier.eigenVectors.shape)"
   ]
  },
  {
   "cell_type": "code",
   "execution_count": 277,
   "id": "2c43e021-c0d7-4aac-98cf-9134fc19c258",
   "metadata": {},
   "outputs": [
    {
     "name": "stdout",
     "output_type": "stream",
     "text": [
      "20\n",
      "784\n"
     ]
    }
   ],
   "source": [
    "testClassifier = TimsLDAClassifier(tinySample)\n",
    "print(testClassifier.num_samples)\n",
    "print(testClassifier.sample_size)\n",
    "testClassifier.buildClassMeans()\n",
    "testClassifier.withinClassCovariance()\n",
    "testClassifier.betweenClassCovariance()\n",
    "testClassifier.getEigens()"
   ]
  },
  {
   "cell_type": "code",
   "execution_count": 225,
   "id": "70debd6c-2582-4f0e-bb29-3d84052a21e7",
   "metadata": {},
   "outputs": [
    {
     "name": "stdout",
     "output_type": "stream",
     "text": [
      "<class 'list'>\n"
     ]
    }
   ],
   "source": [
    "print(type(testClassifier.classes))"
   ]
  },
  {
   "cell_type": "code",
   "execution_count": 206,
   "id": "681facef-c138-4191-b7c0-3e54233968eb",
   "metadata": {},
   "outputs": [
    {
     "data": {
      "image/png": "[encoded data removed]",
      "text/plain": [
       "<Figure size 1600x600 with 10 Axes>"
      ]
     },
     "metadata": {},
     "output_type": "display_data"
    }
   ],
   "source": [
    "%matplotlib inline\n",
    "import numpy as np\n",
    "import matplotlib.pyplot as plt\n",
    "\n",
    "tinySample2 = testClassifier.meanForClass(3)\n",
    "# now let's show some randomly chosen images from the traininng set.\n",
    "count = 0\n",
    "sample_size = 10\n",
    "plt.figure(figsize=(16, 6))\n",
    "for i in range(0, sample_size):\n",
    "    count = count + 1\n",
    "    plt.subplot(1, sample_size, count)\n",
    "    plt.axhline('')\n",
    "    plt.axvline('')\n",
    "    plt.imshow(testClassifier.means[i].reshape(28, 28), cmap=plt.cm.Greys)\n",
    "plt.show()"
   ]
  },
  {
   "cell_type": "code",
   "execution_count": null,
   "id": "048fbbdb-ae3c-4404-8e48-01275965a089",
   "metadata": {},
   "outputs": [],
   "source": []
  }
 ],
 "metadata": {
  "kernelspec": {
   "display_name": "Python 3 (ipykernel)",
   "language": "python",
   "name": "python3"
  },
  "language_info": {
   "codemirror_mode": {
    "name": "ipython",
    "version": 3
   },
   "file_extension": ".py",
   "mimetype": "text/x-python",
   "name": "python",
   "nbconvert_exporter": "python",
   "pygments_lexer": "ipython3",
   "version": "3.9.13"
  }
 },
 "nbformat": 4,
 "nbformat_minor": 5
}
